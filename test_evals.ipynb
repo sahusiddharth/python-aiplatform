{
 "cells": [
  {
   "cell_type": "code",
   "execution_count": 1,
   "id": "8c9c2a87",
   "metadata": {},
   "outputs": [
    {
     "data": {
      "text/plain": [
       "True"
      ]
     },
     "execution_count": 1,
     "metadata": {},
     "output_type": "execute_result"
    }
   ],
   "source": [
    "import pandas as pd\n",
    "from vertexai.evaluation import EvalTask, MetricPromptTemplateExamples, PointwiseMetric\n",
    "from vertexai.preview.evaluation import notebook_utils\n",
    "\n",
    "from dotenv import load_dotenv\n",
    "\n",
    "load_dotenv()"
   ]
  },
  {
   "cell_type": "code",
   "execution_count": 2,
   "id": "82537b0b",
   "metadata": {},
   "outputs": [],
   "source": [
    "LOCATION = \"us-central1\"  # @param {type:\"string\"}\n",
    "EXPERIMENT = \"rag-eval-01\"  # @param {type:\"string\"}\n",
    "\n",
    "import vertexai\n",
    "\n",
    "vertexai.init(location=LOCATION)"
   ]
  },
  {
   "cell_type": "code",
   "execution_count": 3,
   "id": "8de3e234",
   "metadata": {},
   "outputs": [],
   "source": [
    "questions = [\n",
    "    \"Which part of the brain does short-term memory seem to rely on?\",\n",
    "    \"What provided the Roman senate with exuberance?\",\n",
    "    \"What area did the Hasan-jalalians command?\",\n",
    "]\n",
    "\n",
    "retrieved_contexts = [\n",
    "    [\n",
    "        \"Short-term memory is supported by transient patterns of neuronal communication, dependent on regions of the frontal lobe (especially dorsolateral prefrontal cortex) and the parietal lobe. Long-term memory, on the other hand, is maintained by more stable and permanent changes in neural connections widely spread throughout the brain. The hippocampus is essential (for learning new information) to the consolidation of information from short-term to long-term memory, although it does not seem to store information itself. Without the hippocampus, new memories are unable to be stored into long-term memory, as learned from patient Henry Molaison after removal of both his hippocampi, and there will be a very short attention span. Furthermore, it may be involved in changing neural connections for a period of three months or more after the initial learning.\"\n",
    "    ],\n",
    "    [\n",
    "        \"In 62 BC, Pompey returned victorious from Asia. The Senate, elated by its successes against Catiline, refused to ratify the arrangements that Pompey had made. Pompey, in effect, became powerless. Thus, when Julius Caesar returned from a governorship in Spain in 61 BC, he found it easy to make an arrangement with Pompey. Caesar and Pompey, along with Crassus, established a private agreement, now known as the First Triumvirate. Under the agreement, Pompey's arrangements would be ratified. Caesar would be elected consul in 59 BC, and would then serve as governor of Gaul for five years. Crassus was promised a future consulship.\"\n",
    "    ],\n",
    "    [\n",
    "        \"The Seljuk Empire soon started to collapse. In the early 12th century, Armenian princes of the Zakarid noble family drove out the Seljuk Turks and established a semi-independent Armenian principality in Northern and Eastern Armenia, known as Zakarid Armenia, which lasted under the patronage of the Georgian Kingdom. The noble family of Orbelians shared control with the Zakarids in various parts of the country, especially in Syunik and Vayots Dzor, while the Armenian family of Hasan-Jalalians controlled provinces of Artsakh and Utik as the Kingdom of Artsakh.\"\n",
    "    ],\n",
    "]\n",
    "\n",
    "generated_answers_by_rag_a = [\n",
    "    \"frontal lobe and the knee bone\",\n",
    "    \"The Roman Senate was filled with exuberance due to successes against Catiline.\",\n",
    "    \"The Hasan-Jalalians commanded the area of Syunik and Vayots Dzor.\",\n",
    "]\n",
    "\n",
    "eval_dataset_rag_a = pd.DataFrame(\n",
    "    {\n",
    "        \"user_input\": questions,\n",
    "        \"retrieved_contexts\": retrieved_contexts,\n",
    "        \"response\": generated_answers_by_rag_a,\n",
    "        \"prompt\": [\n",
    "            \"Answer the question: \" + question + \" Context: \" + item[0]\n",
    "            for question, item in zip(questions, retrieved_contexts)\n",
    "        ],\n",
    "    }\n",
    ")"
   ]
  },
  {
   "cell_type": "code",
   "execution_count": 4,
   "id": "3973e779",
   "metadata": {},
   "outputs": [
    {
     "data": {
      "text/html": [
       "<div>\n",
       "<style scoped>\n",
       "    .dataframe tbody tr th:only-of-type {\n",
       "        vertical-align: middle;\n",
       "    }\n",
       "\n",
       "    .dataframe tbody tr th {\n",
       "        vertical-align: top;\n",
       "    }\n",
       "\n",
       "    .dataframe thead th {\n",
       "        text-align: right;\n",
       "    }\n",
       "</style>\n",
       "<table border=\"1\" class=\"dataframe\">\n",
       "  <thead>\n",
       "    <tr style=\"text-align: right;\">\n",
       "      <th></th>\n",
       "      <th>user_input</th>\n",
       "      <th>retrieved_contexts</th>\n",
       "      <th>response</th>\n",
       "      <th>prompt</th>\n",
       "    </tr>\n",
       "  </thead>\n",
       "  <tbody>\n",
       "    <tr>\n",
       "      <th>0</th>\n",
       "      <td>Which part of the brain does short-term memory...</td>\n",
       "      <td>[Short-term memory is supported by transient p...</td>\n",
       "      <td>frontal lobe and the knee bone</td>\n",
       "      <td>Answer the question: Which part of the brain d...</td>\n",
       "    </tr>\n",
       "    <tr>\n",
       "      <th>1</th>\n",
       "      <td>What provided the Roman senate with exuberance?</td>\n",
       "      <td>[In 62 BC, Pompey returned victorious from Asi...</td>\n",
       "      <td>The Roman Senate was filled with exuberance du...</td>\n",
       "      <td>Answer the question: What provided the Roman s...</td>\n",
       "    </tr>\n",
       "    <tr>\n",
       "      <th>2</th>\n",
       "      <td>What area did the Hasan-jalalians command?</td>\n",
       "      <td>[The Seljuk Empire soon started to collapse. I...</td>\n",
       "      <td>The Hasan-Jalalians commanded the area of Syun...</td>\n",
       "      <td>Answer the question: What area did the Hasan-j...</td>\n",
       "    </tr>\n",
       "  </tbody>\n",
       "</table>\n",
       "</div>"
      ],
      "text/plain": [
       "                                          user_input  \\\n",
       "0  Which part of the brain does short-term memory...   \n",
       "1    What provided the Roman senate with exuberance?   \n",
       "2         What area did the Hasan-jalalians command?   \n",
       "\n",
       "                                  retrieved_contexts  \\\n",
       "0  [Short-term memory is supported by transient p...   \n",
       "1  [In 62 BC, Pompey returned victorious from Asi...   \n",
       "2  [The Seljuk Empire soon started to collapse. I...   \n",
       "\n",
       "                                            response  \\\n",
       "0                     frontal lobe and the knee bone   \n",
       "1  The Roman Senate was filled with exuberance du...   \n",
       "2  The Hasan-Jalalians commanded the area of Syun...   \n",
       "\n",
       "                                              prompt  \n",
       "0  Answer the question: Which part of the brain d...  \n",
       "1  Answer the question: What provided the Roman s...  \n",
       "2  Answer the question: What area did the Hasan-j...  "
      ]
     },
     "execution_count": 4,
     "metadata": {},
     "output_type": "execute_result"
    }
   ],
   "source": [
    "eval_dataset_rag_a"
   ]
  },
  {
   "cell_type": "code",
   "execution_count": 5,
   "id": "8edb1a54",
   "metadata": {},
   "outputs": [],
   "source": [
    "from ragas.dataset_schema import SingleTurnSample\n",
    "from ragas.metrics import ResponseGroundedness, Faithfulness\n",
    "from ragas.llms import LangchainLLMWrapper\n",
    "from langchain_google_vertexai import VertexAI\n",
    "\n",
    "\n",
    "evaluator_llm = LangchainLLMWrapper(VertexAI(model_name=\"gemini-pro\"))\n",
    "\n",
    "sample = SingleTurnSample(\n",
    "    user_input=\"What provided the Roman senate with exuberance?\",\n",
    "    response=\"The Roman Senate was filled with exuberance due to successes against Catiline.\",\n",
    "    retrieved_contexts=[\n",
    "        \"In 62 BC, Pompey returned victorious from Asia. The Senate, elated by its successes against Catiline, refused to ratify the arrangements that Pompey had made. Pompey, in effect, became powerless. Thus, when Julius Caesar returned from a governorship in Spain in 61 BC, he found it easy to make an arrangement with Pompey. Caesar and Pompey, along with Crassus, established a private agreement, now known as the First Triumvirate. Under the agreement, Pompey's arrangements would be ratified. Caesar would be elected consul in 59 BC, and would then serve as governor of Gaul for five years. Crassus was promised a future consulship.\"\n",
    "    ],\n",
    ")\n",
    "\n",
    "\n",
    "scorer = ResponseGroundedness(llm=evaluator_llm)\n",
    "faithfulness = Faithfulness(llm=evaluator_llm)"
   ]
  },
  {
   "cell_type": "code",
   "execution_count": 6,
   "id": "e41ad5cf",
   "metadata": {},
   "outputs": [],
   "source": [
    "from vertexai.evaluation import CustomMetric, EvalTask, MetricPromptTemplateExamples\n",
    "import asyncio\n",
    "from vertexai.evaluation import constants\n",
    "\n",
    "def run_ragas_faithfulness_metric(row_dict):\n",
    "    # This function runs in a thread and executes the \n",
    "    # async function\n",
    "    sample = SingleTurnSample(\n",
    "                        user_input=row_dict.get(\"user_input\"),\n",
    "                        retrieved_contexts=row_dict.get(\"retrieved_contexts\"),\n",
    "                        response=row_dict.get(\"response\"),\n",
    "                        reference=row_dict.get(\"reference\"),\n",
    "                        rubric=row_dict.get(\"rubric\"),\n",
    "                    )\n",
    "    return {\"ragas_faithfulness\" : asyncio.run(faithfulness.single_turn_ascore(sample=sample))}\n",
    "\n",
    "custom_faithfulness = CustomMetric(\n",
    "    name=\"ragas_faithfulness\",\n",
    "    metric_function=run_ragas_faithfulness_metric,\n",
    ")"
   ]
  },
  {
   "cell_type": "code",
   "execution_count": 7,
   "id": "338f597c",
   "metadata": {},
   "outputs": [],
   "source": [
    "# monkey patching ragas evaluators\n",
    "def hash_by_name(self):\n",
    "    return hash(self.name)\n",
    "\n",
    "\n",
    "ResponseGroundedness.__hash__ = hash_by_name\n",
    "Faithfulness.__hash__ = hash_by_name"
   ]
  },
  {
   "cell_type": "code",
   "execution_count": 8,
   "id": "fb4a4a27",
   "metadata": {},
   "outputs": [],
   "source": [
    "rag_eval_task_rag_a = EvalTask(\n",
    "    dataset=eval_dataset_rag_a,\n",
    "    metrics=[\n",
    "        \"question_answering_quality\",\n",
    "        scorer,\n",
    "    ],\n",
    ")"
   ]
  },
  {
   "cell_type": "code",
   "execution_count": 9,
   "id": "b5e92535",
   "metadata": {},
   "outputs": [
    {
     "name": "stdout",
     "output_type": "stream",
     "text": [
      "Computing metrics with a total of 3 Vertex Gen AI Evaluation Service API requests.\n"
     ]
    },
    {
     "name": "stderr",
     "output_type": "stream",
     "text": [
      "100%|██████████| 3/3 [00:03<00:00,  1.09s/it]\n"
     ]
    },
    {
     "data": {
      "application/vnd.jupyter.widget-view+json": {
       "model_id": "9df8ad2adba94ee4b3ebd1b687a0c92e",
       "version_major": 2,
       "version_minor": 0
      },
      "text/plain": [
       "Evaluating:   0%|          | 0/3 [00:00<?, ?it/s]"
      ]
     },
     "metadata": {},
     "output_type": "display_data"
    },
    {
     "name": "stdout",
     "output_type": "stream",
     "text": [
      "All 3 metric requests are successfully computed.\n",
      "Evaluation Took:9.043935417001194 seconds\n"
     ]
    },
    {
     "data": {
      "text/html": [
       "\n",
       "        \n",
       "    <link rel=\"stylesheet\" href=\"https://fonts.googleapis.com/icon?family=Material+Icons\">\n",
       "    <style>\n",
       "      .view-vertex-resource,\n",
       "      .view-vertex-resource:hover,\n",
       "      .view-vertex-resource:visited {\n",
       "        position: relative;\n",
       "        display: inline-flex;\n",
       "        flex-direction: row;\n",
       "        height: 32px;\n",
       "        padding: 0 12px;\n",
       "          margin: 4px 18px;\n",
       "        gap: 4px;\n",
       "        border-radius: 4px;\n",
       "\n",
       "        align-items: center;\n",
       "        justify-content: center;\n",
       "        background-color: rgb(255, 255, 255);\n",
       "        color: rgb(51, 103, 214);\n",
       "\n",
       "        font-family: Roboto,\"Helvetica Neue\",sans-serif;\n",
       "        font-size: 13px;\n",
       "        font-weight: 500;\n",
       "        text-transform: uppercase;\n",
       "        text-decoration: none !important;\n",
       "\n",
       "        transition: box-shadow 280ms cubic-bezier(0.4, 0, 0.2, 1) 0s;\n",
       "        box-shadow: 0px 3px 1px -2px rgba(0,0,0,0.2), 0px 2px 2px 0px rgba(0,0,0,0.14), 0px 1px 5px 0px rgba(0,0,0,0.12);\n",
       "      }\n",
       "      .view-vertex-resource:active {\n",
       "        box-shadow: 0px 5px 5px -3px rgba(0,0,0,0.2),0px 8px 10px 1px rgba(0,0,0,0.14),0px 3px 14px 2px rgba(0,0,0,0.12);\n",
       "      }\n",
       "      .view-vertex-resource:active .view-vertex-ripple::before {\n",
       "        position: absolute;\n",
       "        top: 0;\n",
       "        bottom: 0;\n",
       "        left: 0;\n",
       "        right: 0;\n",
       "        border-radius: 4px;\n",
       "        pointer-events: none;\n",
       "\n",
       "        content: '';\n",
       "        background-color: rgb(51, 103, 214);\n",
       "        opacity: 0.12;\n",
       "      }\n",
       "      .view-vertex-icon {\n",
       "        font-size: 18px;\n",
       "      }\n",
       "    </style>\n",
       "  \n",
       "        <a class=\"view-vertex-resource\" id=\"view-vertex-resource-acbda8f8-cc21-4e8b-a581-2214a136273d\" href=\"#view-view-vertex-resource-acbda8f8-cc21-4e8b-a581-2214a136273d\">\n",
       "          <span class=\"material-icons view-vertex-icon\">bar_chart</span>\n",
       "          <span>View evaluation results</span>\n",
       "        </a>\n",
       "        \n",
       "        <script>\n",
       "          (function () {\n",
       "            const link = document.getElementById('view-vertex-resource-acbda8f8-cc21-4e8b-a581-2214a136273d');\n",
       "            link.addEventListener('click', (e) => {\n",
       "              if (window.google?.colab?.openUrl) {\n",
       "                window.google.colab.openUrl('https://cloud.google.com/vertex-ai/generative-ai/docs/models/view-evaluation');\n",
       "              } else {\n",
       "                window.open('https://cloud.google.com/vertex-ai/generative-ai/docs/models/view-evaluation', '_blank');\n",
       "              }\n",
       "              e.stopPropagation();\n",
       "              e.preventDefault();\n",
       "            });\n",
       "          })();\n",
       "        </script>\n",
       "    "
      ],
      "text/plain": [
       "<IPython.core.display.HTML object>"
      ]
     },
     "metadata": {},
     "output_type": "display_data"
    }
   ],
   "source": [
    "result_rag_a = rag_eval_task_rag_a.evaluate()"
   ]
  },
  {
   "cell_type": "code",
   "execution_count": 10,
   "id": "2bbb22ef",
   "metadata": {},
   "outputs": [
    {
     "data": {
      "text/html": [
       "<div>\n",
       "<style scoped>\n",
       "    .dataframe tbody tr th:only-of-type {\n",
       "        vertical-align: middle;\n",
       "    }\n",
       "\n",
       "    .dataframe tbody tr th {\n",
       "        vertical-align: top;\n",
       "    }\n",
       "\n",
       "    .dataframe thead th {\n",
       "        text-align: right;\n",
       "    }\n",
       "</style>\n",
       "<table border=\"1\" class=\"dataframe\">\n",
       "  <thead>\n",
       "    <tr style=\"text-align: right;\">\n",
       "      <th></th>\n",
       "      <th>user_input</th>\n",
       "      <th>retrieved_contexts</th>\n",
       "      <th>response</th>\n",
       "      <th>prompt</th>\n",
       "      <th>question_answering_quality/explanation</th>\n",
       "      <th>question_answering_quality/score</th>\n",
       "      <th>nv_response_groundedness/score</th>\n",
       "    </tr>\n",
       "  </thead>\n",
       "  <tbody>\n",
       "    <tr>\n",
       "      <th>0</th>\n",
       "      <td>Which part of the brain does short-term memory...</td>\n",
       "      <td>[Short-term memory is supported by transient p...</td>\n",
       "      <td>frontal lobe and the knee bone</td>\n",
       "      <td>Answer the question: Which part of the brain d...</td>\n",
       "      <td>The response does not follow instructions very...</td>\n",
       "      <td>2.0</td>\n",
       "      <td>0.0</td>\n",
       "    </tr>\n",
       "    <tr>\n",
       "      <th>1</th>\n",
       "      <td>What provided the Roman senate with exuberance?</td>\n",
       "      <td>[In 62 BC, Pompey returned victorious from Asi...</td>\n",
       "      <td>The Roman Senate was filled with exuberance du...</td>\n",
       "      <td>Answer the question: What provided the Roman s...</td>\n",
       "      <td>The response answers the question completely a...</td>\n",
       "      <td>5.0</td>\n",
       "      <td>1.0</td>\n",
       "    </tr>\n",
       "    <tr>\n",
       "      <th>2</th>\n",
       "      <td>What area did the Hasan-jalalians command?</td>\n",
       "      <td>[The Seljuk Empire soon started to collapse. I...</td>\n",
       "      <td>The Hasan-Jalalians commanded the area of Syun...</td>\n",
       "      <td>Answer the question: What area did the Hasan-j...</td>\n",
       "      <td>The response provides an incorrect answer acco...</td>\n",
       "      <td>1.0</td>\n",
       "      <td>0.0</td>\n",
       "    </tr>\n",
       "  </tbody>\n",
       "</table>\n",
       "</div>"
      ],
      "text/plain": [
       "                                          user_input  \\\n",
       "0  Which part of the brain does short-term memory...   \n",
       "1    What provided the Roman senate with exuberance?   \n",
       "2         What area did the Hasan-jalalians command?   \n",
       "\n",
       "                                  retrieved_contexts  \\\n",
       "0  [Short-term memory is supported by transient p...   \n",
       "1  [In 62 BC, Pompey returned victorious from Asi...   \n",
       "2  [The Seljuk Empire soon started to collapse. I...   \n",
       "\n",
       "                                            response  \\\n",
       "0                     frontal lobe and the knee bone   \n",
       "1  The Roman Senate was filled with exuberance du...   \n",
       "2  The Hasan-Jalalians commanded the area of Syun...   \n",
       "\n",
       "                                              prompt  \\\n",
       "0  Answer the question: Which part of the brain d...   \n",
       "1  Answer the question: What provided the Roman s...   \n",
       "2  Answer the question: What area did the Hasan-j...   \n",
       "\n",
       "              question_answering_quality/explanation  \\\n",
       "0  The response does not follow instructions very...   \n",
       "1  The response answers the question completely a...   \n",
       "2  The response provides an incorrect answer acco...   \n",
       "\n",
       "   question_answering_quality/score  nv_response_groundedness/score  \n",
       "0                               2.0                             0.0  \n",
       "1                               5.0                             1.0  \n",
       "2                               1.0                             0.0  "
      ]
     },
     "execution_count": 10,
     "metadata": {},
     "output_type": "execute_result"
    }
   ],
   "source": [
    "result_rag_a.metrics_table"
   ]
  }
 ],
 "metadata": {
  "kernelspec": {
   "display_name": "agents",
   "language": "python",
   "name": "python3"
  },
  "language_info": {
   "codemirror_mode": {
    "name": "ipython",
    "version": 3
   },
   "file_extension": ".py",
   "mimetype": "text/x-python",
   "name": "python",
   "nbconvert_exporter": "python",
   "pygments_lexer": "ipython3",
   "version": "3.10.15"
  }
 },
 "nbformat": 4,
 "nbformat_minor": 5
}
